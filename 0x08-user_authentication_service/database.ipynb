{
 "cells": [
  {
   "cell_type": "code",
   "execution_count": 1,
   "metadata": {},
   "outputs": [],
   "source": [
    "\"\"\"Importing sqlalchemy and calling declarative_base() creates a base class\"\"\"\n",
    "from sqlalchemy.ext.declarative import declarative_base\n",
    "from sqlalchemy import Column, Integer, String\n",
    "\n",
    "Base = declarative_base()\n"
   ]
  },
  {
   "cell_type": "code",
   "execution_count": 2,
   "metadata": {},
   "outputs": [],
   "source": [
    "\"\"\" Creating the User Schema \"\"\"\n",
    "class User(Base):\n",
    "  __tablename__ = 'users'\n",
    "  id = Column(Integer, primary_key=True)\n",
    "  email = Column(String(250), nullable=False)\n",
    "  hashed_password = Column(String(250), nullable=False)\n",
    "  session_id = Column(String(250), nullable=True)\n"
   ]
  },
  {
   "cell_type": "code",
   "execution_count": 3,
   "metadata": {},
   "outputs": [],
   "source": [
    "\"\"\" Creating Session\"\"\"\n",
    "from sqlalchemy import create_engine\n",
    "from sqlalchemy.orm import sessionmaker\n",
    "engine = create_engine(\"sqlite:///a.db\", echo=False)\n",
    "\n",
    "Base.metadata.drop_all(engine)\n",
    "Base.metadata.create_all(engine)\n",
    "\n",
    "Session = sessionmaker(bind=engine)\n",
    "session = Session()"
   ]
  },
  {
   "cell_type": "code",
   "execution_count": 4,
   "metadata": {},
   "outputs": [
    {
     "name": "stdout",
     "output_type": "stream",
     "text": [
      "1\n"
     ]
    }
   ],
   "source": [
    "new_user = User(email='email@gmail.com', hashed_password='123456')\n",
    "session.add(new_user)\n",
    "session.commit()\n",
    "\n",
    "print(new_user.id)"
   ]
  },
  {
   "cell_type": "code",
   "execution_count": 5,
   "metadata": {},
   "outputs": [
    {
     "name": "stdout",
     "output_type": "stream",
     "text": [
      "b'$2b$12$N0qYjVK.1hjBjJ/yuXXLDeiwDCbqQP8jXE0pLtQ3Au91nYJxR2CXe'\n"
     ]
    }
   ],
   "source": [
    "import bcrypt\n",
    "\n",
    "password = 'Hello Holberton'\n",
    "salt = bcrypt.gensalt()\n",
    "hashed_password = bcrypt.hashpw(password.encode('utf-8'), salt)\n",
    "\n",
    "print(hashed_password)"
   ]
  },
  {
   "cell_type": "code",
   "execution_count": 19,
   "metadata": {},
   "outputs": [
    {
     "name": "stdout",
     "output_type": "stream",
     "text": [
      "<class 'sqlalchemy.orm.query.Query'>\n"
     ]
    }
   ],
   "source": [
    "found_user = session.query(User).filter_by(email='emaill@gmail.com')\n",
    "\n",
    "print(type(found_user))"
   ]
  }
 ],
 "metadata": {
  "kernelspec": {
   "display_name": "Python 3.8.10 ('venv': venv)",
   "language": "python",
   "name": "python3"
  },
  "language_info": {
   "codemirror_mode": {
    "name": "ipython",
    "version": 3
   },
   "file_extension": ".py",
   "mimetype": "text/x-python",
   "name": "python",
   "nbconvert_exporter": "python",
   "pygments_lexer": "ipython3",
   "version": "3.8.10"
  },
  "orig_nbformat": 4,
  "vscode": {
   "interpreter": {
    "hash": "b65d95ab1b8f9cb81fc23d16f51ddf35e8475fa5067178eaaa8b99fa1b519628"
   }
  }
 },
 "nbformat": 4,
 "nbformat_minor": 2
}
